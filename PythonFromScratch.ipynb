{
  "nbformat": 4,
  "nbformat_minor": 0,
  "metadata": {
    "colab": {
      "provenance": [],
      "authorship_tag": "ABX9TyOuz267ZrPJIGyYGoUrTQrw",
      "include_colab_link": true
    },
    "kernelspec": {
      "name": "python3",
      "display_name": "Python 3"
    },
    "language_info": {
      "name": "python"
    }
  },
  "cells": [
    {
      "cell_type": "markdown",
      "metadata": {
        "id": "view-in-github",
        "colab_type": "text"
      },
      "source": [
        "<a href=\"https://colab.research.google.com/github/ZohrehBayramalizadeh/Neural-Networks/blob/main/PythonFromScratch.ipynb\" target=\"_parent\"><img src=\"https://colab.research.google.com/assets/colab-badge.svg\" alt=\"Open In Colab\"/></a>"
      ]
    },
    {
      "cell_type": "code",
      "execution_count": 1,
      "metadata": {
        "colab": {
          "base_uri": "https://localhost:8080/"
        },
        "id": "TzXSeaWWjlDm",
        "outputId": "266c31b6-9689-492d-a5dd-303d8ede7efb"
      },
      "outputs": [
        {
          "output_type": "stream",
          "name": "stdout",
          "text": [
            "[1, 2, 3, 4]\n"
          ]
        }
      ],
      "source": [
        "list_1 = [ 1,2,3,4]\n",
        "print(list_1)"
      ]
    },
    {
      "cell_type": "code",
      "source": [
        "len(list_1)"
      ],
      "metadata": {
        "colab": {
          "base_uri": "https://localhost:8080/"
        },
        "id": "0KBKdm9ok4ZU",
        "outputId": "3fd2ff6f-d5ca-4363-b9a6-2ed44c4a0315"
      },
      "execution_count": 2,
      "outputs": [
        {
          "output_type": "execute_result",
          "data": {
            "text/plain": [
              "4"
            ]
          },
          "metadata": {},
          "execution_count": 2
        }
      ]
    },
    {
      "cell_type": "code",
      "source": [
        "list_1.__len__()"
      ],
      "metadata": {
        "colab": {
          "base_uri": "https://localhost:8080/"
        },
        "id": "m2oNqQjAlRKm",
        "outputId": "f0ec4d14-20fc-46de-b84d-ee07ffdb1c3b"
      },
      "execution_count": 3,
      "outputs": [
        {
          "output_type": "execute_result",
          "data": {
            "text/plain": [
              "4"
            ]
          },
          "metadata": {},
          "execution_count": 3
        }
      ]
    },
    {
      "cell_type": "code",
      "source": [
        "list_2= ['red','blue', 'green']"
      ],
      "metadata": {
        "id": "JM33yHd2lvzr"
      },
      "execution_count": 4,
      "outputs": []
    },
    {
      "cell_type": "code",
      "source": [
        "list_2.__len__()"
      ],
      "metadata": {
        "colab": {
          "base_uri": "https://localhost:8080/"
        },
        "id": "1PUjqrCDmB0Q",
        "outputId": "91ffafd3-dae8-448e-e82e-05b1e12d1503"
      },
      "execution_count": 5,
      "outputs": [
        {
          "output_type": "execute_result",
          "data": {
            "text/plain": [
              "3"
            ]
          },
          "metadata": {},
          "execution_count": 5
        }
      ]
    },
    {
      "cell_type": "code",
      "source": [
        "list_1.append(9.5)"
      ],
      "metadata": {
        "id": "P577ldCwlfxq"
      },
      "execution_count": 8,
      "outputs": []
    },
    {
      "cell_type": "code",
      "source": [
        "list_1"
      ],
      "metadata": {
        "colab": {
          "base_uri": "https://localhost:8080/"
        },
        "id": "hQIjV7wMlfuk",
        "outputId": "02d097cb-e1c7-4f09-cf1e-89e688423e53"
      },
      "execution_count": 9,
      "outputs": [
        {
          "output_type": "execute_result",
          "data": {
            "text/plain": [
              "[1, 2, 3, 4, 9, 9.5]"
            ]
          },
          "metadata": {},
          "execution_count": 9
        }
      ]
    },
    {
      "cell_type": "code",
      "source": [
        "list_2.append('black')"
      ],
      "metadata": {
        "id": "RnZwxVqGmM8s"
      },
      "execution_count": 10,
      "outputs": []
    },
    {
      "cell_type": "code",
      "source": [
        "print(list_2)"
      ],
      "metadata": {
        "colab": {
          "base_uri": "https://localhost:8080/"
        },
        "id": "WO7ygNn9mYUb",
        "outputId": "df22c12b-95e4-411d-9e5c-d3cf7d73bb6c"
      },
      "execution_count": 11,
      "outputs": [
        {
          "output_type": "stream",
          "name": "stdout",
          "text": [
            "['red', 'blue', 'green', 'black']\n"
          ]
        }
      ]
    },
    {
      "cell_type": "code",
      "source": [
        "list_2"
      ],
      "metadata": {
        "colab": {
          "base_uri": "https://localhost:8080/"
        },
        "id": "4fBS-grVmcRy",
        "outputId": "da2fae9d-da48-491f-feb4-b8bc27b1839d"
      },
      "execution_count": 12,
      "outputs": [
        {
          "output_type": "execute_result",
          "data": {
            "text/plain": [
              "['red', 'blue', 'green', 'black']"
            ]
          },
          "metadata": {},
          "execution_count": 12
        }
      ]
    },
    {
      "cell_type": "code",
      "source": [
        "list_1.extend([81,99,115])"
      ],
      "metadata": {
        "id": "oWPae5sXmemO"
      },
      "execution_count": 13,
      "outputs": []
    },
    {
      "cell_type": "code",
      "source": [
        "list_1"
      ],
      "metadata": {
        "colab": {
          "base_uri": "https://localhost:8080/"
        },
        "id": "NcILfgK4mx-h",
        "outputId": "7bc964da-d04d-44c5-827c-5984e958454b"
      },
      "execution_count": 14,
      "outputs": [
        {
          "output_type": "execute_result",
          "data": {
            "text/plain": [
              "[1, 2, 3, 4, 9, 9.5, 81, 99, 115]"
            ]
          },
          "metadata": {},
          "execution_count": 14
        }
      ]
    },
    {
      "cell_type": "code",
      "source": [
        "list_1.extend(list_2)\n",
        "print(list_1)"
      ],
      "metadata": {
        "colab": {
          "base_uri": "https://localhost:8080/"
        },
        "id": "tPzmGqP2mzDP",
        "outputId": "f346bdd5-8b6e-493b-8b05-7e059839c498"
      },
      "execution_count": 15,
      "outputs": [
        {
          "output_type": "stream",
          "name": "stdout",
          "text": [
            "[1, 2, 3, 4, 9, 9.5, 81, 99, 115, 'red', 'blue', 'green', 'black']\n"
          ]
        }
      ]
    },
    {
      "cell_type": "code",
      "source": [
        "list_3 = [ 'hello', 22 , 37.9]\n",
        "list_3 "
      ],
      "metadata": {
        "colab": {
          "base_uri": "https://localhost:8080/"
        },
        "id": "kKjrV_o8nDSc",
        "outputId": "fed43105-a1c7-4f5e-ae31-f05e139b4888"
      },
      "execution_count": 17,
      "outputs": [
        {
          "output_type": "execute_result",
          "data": {
            "text/plain": [
              "['hello', 22, 37.9]"
            ]
          },
          "metadata": {},
          "execution_count": 17
        }
      ]
    },
    {
      "cell_type": "code",
      "source": [
        "list_name = [' ali', 'sara', 'bita', 'aydin']"
      ],
      "metadata": {
        "id": "tjDHwct9noC5"
      },
      "execution_count": 33,
      "outputs": []
    },
    {
      "cell_type": "code",
      "source": [
        "list_age = [22,25,26,24,29,22,24,22,26,28]"
      ],
      "metadata": {
        "id": "i2tRV-vIoLry"
      },
      "execution_count": 37,
      "outputs": []
    },
    {
      "cell_type": "code",
      "source": [
        "list_age[3]"
      ],
      "metadata": {
        "colab": {
          "base_uri": "https://localhost:8080/"
        },
        "id": "LCb0p0eVoevl",
        "outputId": "14d81ee0-3c3a-4f19-f30c-067aace95471"
      },
      "execution_count": 20,
      "outputs": [
        {
          "output_type": "execute_result",
          "data": {
            "text/plain": [
              "24"
            ]
          },
          "metadata": {},
          "execution_count": 20
        }
      ]
    },
    {
      "cell_type": "code",
      "source": [
        "list_2[0]"
      ],
      "metadata": {
        "colab": {
          "base_uri": "https://localhost:8080/",
          "height": 36
        },
        "id": "YFQrrGIRojzG",
        "outputId": "bb229c6b-d2f7-487c-885a-9c6cc22c6a54"
      },
      "execution_count": 21,
      "outputs": [
        {
          "output_type": "execute_result",
          "data": {
            "text/plain": [
              "'red'"
            ],
            "application/vnd.google.colaboratory.intrinsic+json": {
              "type": "string"
            }
          },
          "metadata": {},
          "execution_count": 21
        }
      ]
    },
    {
      "cell_type": "code",
      "source": [
        "list_age[3:6]"
      ],
      "metadata": {
        "colab": {
          "base_uri": "https://localhost:8080/"
        },
        "id": "8WHKmYRRoxnT",
        "outputId": "4998dd6f-3cb5-4ca4-fec1-0a4dac8af4e8"
      },
      "execution_count": 31,
      "outputs": [
        {
          "output_type": "execute_result",
          "data": {
            "text/plain": [
              "[26, 25, 24]"
            ]
          },
          "metadata": {},
          "execution_count": 31
        }
      ]
    },
    {
      "cell_type": "code",
      "source": [
        "list_age.count(22)"
      ],
      "metadata": {
        "colab": {
          "base_uri": "https://localhost:8080/"
        },
        "id": "YkhOzm65pB59",
        "outputId": "5930f377-0670-4515-9799-f7621cf93c4d"
      },
      "execution_count": 26,
      "outputs": [
        {
          "output_type": "execute_result",
          "data": {
            "text/plain": [
              "3"
            ]
          },
          "metadata": {},
          "execution_count": 26
        }
      ]
    },
    {
      "cell_type": "code",
      "source": [
        "list_age.sort()\n",
        "print(list_age)"
      ],
      "metadata": {
        "colab": {
          "base_uri": "https://localhost:8080/"
        },
        "id": "mYGVdX6opW5V",
        "outputId": "4eab9fdb-35bb-45f6-905f-d044aab51aed"
      },
      "execution_count": 29,
      "outputs": [
        {
          "output_type": "stream",
          "name": "stdout",
          "text": [
            "[22, 22, 22, 24, 24, 25, 26, 26, 28, 29]\n"
          ]
        }
      ]
    },
    {
      "cell_type": "code",
      "source": [
        "list_age.sort(reverse=True)\n",
        "print(list_age)"
      ],
      "metadata": {
        "colab": {
          "base_uri": "https://localhost:8080/"
        },
        "id": "61EcgIaIpp2j",
        "outputId": "82340b33-d01a-4eda-967f-3b16d717ac95"
      },
      "execution_count": 30,
      "outputs": [
        {
          "output_type": "stream",
          "name": "stdout",
          "text": [
            "[29, 28, 26, 26, 25, 24, 24, 22, 22, 22]\n"
          ]
        }
      ]
    },
    {
      "cell_type": "code",
      "source": [
        "list_name.clear()\n",
        "print(list_name)"
      ],
      "metadata": {
        "colab": {
          "base_uri": "https://localhost:8080/"
        },
        "id": "U_yKApMvpz1p",
        "outputId": "3dfebb6e-e916-4d2c-e84b-7681c55abd0a"
      },
      "execution_count": 34,
      "outputs": [
        {
          "output_type": "stream",
          "name": "stdout",
          "text": [
            "[]\n"
          ]
        }
      ]
    },
    {
      "cell_type": "code",
      "source": [
        "list_name = [' ali', 'sara', 'bita', 'aydin']"
      ],
      "metadata": {
        "id": "-dXlzXpPq6T5"
      },
      "execution_count": 40,
      "outputs": []
    },
    {
      "cell_type": "code",
      "source": [
        "list_name.pop(2)\n",
        "print(list_name)"
      ],
      "metadata": {
        "colab": {
          "base_uri": "https://localhost:8080/"
        },
        "id": "hK4VfpFXq3JJ",
        "outputId": "aa9a13b4-7064-4168-f812-2ffaf2bdfcc3"
      },
      "execution_count": 41,
      "outputs": [
        {
          "output_type": "stream",
          "name": "stdout",
          "text": [
            "[' ali', 'sara', 'aydin']\n"
          ]
        }
      ]
    },
    {
      "cell_type": "code",
      "source": [
        "list_age.pop(2)\n",
        "print(list_age)"
      ],
      "metadata": {
        "colab": {
          "base_uri": "https://localhost:8080/"
        },
        "id": "0uEwxT7AqaxQ",
        "outputId": "d742b52c-c665-4460-f4b2-86fd6956a632"
      },
      "execution_count": 39,
      "outputs": [
        {
          "output_type": "stream",
          "name": "stdout",
          "text": [
            "[22, 25, 24, 29, 22, 24, 22, 26, 28]\n"
          ]
        }
      ]
    },
    {
      "cell_type": "code",
      "source": [
        "print(20+35)"
      ],
      "metadata": {
        "colab": {
          "base_uri": "https://localhost:8080/"
        },
        "id": "8CaE7Tvzqqnf",
        "outputId": "5e3d1643-faf4-4654-c9fe-f03985865cbf"
      },
      "execution_count": 42,
      "outputs": [
        {
          "output_type": "stream",
          "name": "stdout",
          "text": [
            "55\n"
          ]
        }
      ]
    },
    {
      "cell_type": "code",
      "source": [
        "product = {\n",
        "    'Iran' : 'Tehran',\n",
        "    'color': 'red',\n",
        "    'size': 'samll',\n",
        "    'vol' : '200',\n",
        "    'alizadeh': [20,18,17.5,19]    \n",
        "}"
      ],
      "metadata": {
        "id": "WsBFYftUrIe8"
      },
      "execution_count": 49,
      "outputs": []
    },
    {
      "cell_type": "code",
      "source": [
        "product['cost']= '1000'\n",
        "print(product)"
      ],
      "metadata": {
        "colab": {
          "base_uri": "https://localhost:8080/"
        },
        "id": "2mtahxb_tOi3",
        "outputId": "32a95141-cf83-4444-bbf9-66c36f8ecfc6"
      },
      "execution_count": 46,
      "outputs": [
        {
          "output_type": "stream",
          "name": "stdout",
          "text": [
            "{'Iran': 'Tehran', 'color': 'red', 'size': 'samll', 'vol': '200', 'cost': '1000'}\n"
          ]
        }
      ]
    },
    {
      "cell_type": "code",
      "source": [
        " a = product['color']\n",
        " print(a)"
      ],
      "metadata": {
        "colab": {
          "base_uri": "https://localhost:8080/"
        },
        "id": "IEAo0WmHtbJa",
        "outputId": "2d8b3b5b-3ccd-4194-f017-2f6b92f2180d"
      },
      "execution_count": 47,
      "outputs": [
        {
          "output_type": "stream",
          "name": "stdout",
          "text": [
            "red\n"
          ]
        }
      ]
    },
    {
      "cell_type": "code",
      "source": [
        " b = product['alizadeh']\n",
        " print(b)"
      ],
      "metadata": {
        "colab": {
          "base_uri": "https://localhost:8080/"
        },
        "id": "WV2qMOTDtwA5",
        "outputId": "b2960b18-7a6f-4ad3-9232-07d3b8593fc2"
      },
      "execution_count": 50,
      "outputs": [
        {
          "output_type": "stream",
          "name": "stdout",
          "text": [
            "[20, 18, 17.5, 19]\n"
          ]
        }
      ]
    },
    {
      "cell_type": "code",
      "source": [
        "product['alizadeh'] = [20,18,16,19]    "
      ],
      "metadata": {
        "id": "xfJTGaJpu56R"
      },
      "execution_count": 51,
      "outputs": []
    },
    {
      "cell_type": "code",
      "source": [
        "print(product)"
      ],
      "metadata": {
        "colab": {
          "base_uri": "https://localhost:8080/"
        },
        "id": "TU2DKUkwvNHO",
        "outputId": "90c1e1b1-71cc-46cc-8f9e-2722464a7d39"
      },
      "execution_count": 52,
      "outputs": [
        {
          "output_type": "stream",
          "name": "stdout",
          "text": [
            "{'Iran': 'Tehran', 'color': 'red', 'size': 'samll', 'vol': '200', 'alizadeh': [20, 18, 16, 19]}\n"
          ]
        }
      ]
    },
    {
      "cell_type": "code",
      "source": [
        "print('ahmadi' in product)"
      ],
      "metadata": {
        "colab": {
          "base_uri": "https://localhost:8080/"
        },
        "id": "TR3uyvZLvQV7",
        "outputId": "17bfa94f-35c5-45ad-dcc2-4bd3623bb9c1"
      },
      "execution_count": 53,
      "outputs": [
        {
          "output_type": "stream",
          "name": "stdout",
          "text": [
            "False\n"
          ]
        }
      ]
    },
    {
      "cell_type": "code",
      "source": [
        "product_keys = product.keys()\n",
        "print(product_keys)"
      ],
      "metadata": {
        "colab": {
          "base_uri": "https://localhost:8080/"
        },
        "id": "vYL_WXMBveaw",
        "outputId": "a35a3f96-419b-4d6a-d92a-68f2c7f70bea"
      },
      "execution_count": 54,
      "outputs": [
        {
          "output_type": "stream",
          "name": "stdout",
          "text": [
            "dict_keys(['Iran', 'color', 'size', 'vol', 'alizadeh'])\n"
          ]
        }
      ]
    }
  ]
}